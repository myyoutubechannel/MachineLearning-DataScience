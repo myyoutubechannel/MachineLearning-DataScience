{
  "nbformat": 4,
  "nbformat_minor": 0,
  "metadata": {
    "colab": {
      "name": "ArrayMatrixvector.ipynb",
      "provenance": []
    },
    "kernelspec": {
      "name": "python3",
      "display_name": "Python 3"
    },
    "language_info": {
      "name": "python"
    }
  },
  "cells": [
    {
      "cell_type": "markdown",
      "metadata": {
        "id": "3drqAPG4JE9H"
      },
      "source": [
        "#Vectors, Matrices, Arrays Part 1\n",
        " **Creating Vectors**"
      ]
    },
    {
      "cell_type": "code",
      "metadata": {
        "id": "guTaHSViI6TG"
      },
      "source": [
        "#Load Library\n",
        "import numpy as np"
      ],
      "execution_count": 1,
      "outputs": []
    },
    {
      "cell_type": "code",
      "metadata": {
        "colab": {
          "base_uri": "https://localhost:8080/"
        },
        "id": "7VKG0JfkJJBA",
        "outputId": "44dfe74c-1351-4a40-a3d5-96bcc916ac8d"
      },
      "source": [
        "#Create a row vector\n",
        "row_vec=np.array([1,2,3])\n",
        "row_vec"
      ],
      "execution_count": 2,
      "outputs": [
        {
          "output_type": "execute_result",
          "data": {
            "text/plain": [
              "array([1, 2, 3])"
            ]
          },
          "metadata": {
            "tags": []
          },
          "execution_count": 2
        }
      ]
    },
    {
      "cell_type": "code",
      "metadata": {
        "colab": {
          "base_uri": "https://localhost:8080/"
        },
        "id": "1ULBYU3jJOpB",
        "outputId": "621603b9-bf64-4793-b357-f8b4cd8bf368"
      },
      "source": [
        "#Create a Column vector\n",
        "col_vec = np.array([[1],[2],[3]])\n",
        "col_vec"
      ],
      "execution_count": 3,
      "outputs": [
        {
          "output_type": "execute_result",
          "data": {
            "text/plain": [
              "array([[1],\n",
              "       [2],\n",
              "       [3]])"
            ]
          },
          "metadata": {
            "tags": []
          },
          "execution_count": 3
        }
      ]
    },
    {
      "cell_type": "markdown",
      "metadata": {
        "id": "bCIMO8QOJnGu"
      },
      "source": [
        " **Creating Matrix**\n",
        "\n",
        "There are two ways to create matrices using numpy\n",
        "\n",
        "\n",
        "1.   Using 2-D Array\n",
        "2.   Using Matrix data structure\n",
        "\n",
        "Simplicity of 2-D Array over Matrix datastructure\n",
        "\n",
        "\n",
        "1.   2-D Array is the standard data structure of Numpy\n",
        "2.   Most of the Numpy operations returs array not matrix object\n"
      ]
    },
    {
      "cell_type": "code",
      "metadata": {
        "colab": {
          "base_uri": "https://localhost:8080/"
        },
        "id": "msOrdqMlJgy_",
        "outputId": "92735864-d177-40e0-f236-23f5c1deef60"
      },
      "source": [
        "#Create matrix using 2-D array\n",
        "mat2D = np.array([[1,2,3],[4,5,6],[7,8,9]])\n",
        "mat2D"
      ],
      "execution_count": 4,
      "outputs": [
        {
          "output_type": "execute_result",
          "data": {
            "text/plain": [
              "array([[1, 2, 3],\n",
              "       [4, 5, 6],\n",
              "       [7, 8, 9]])"
            ]
          },
          "metadata": {
            "tags": []
          },
          "execution_count": 4
        }
      ]
    },
    {
      "cell_type": "code",
      "metadata": {
        "colab": {
          "base_uri": "https://localhost:8080/"
        },
        "id": "N7N4qGiKJvSM",
        "outputId": "2718772a-af62-403b-f4c1-ebf0960dfb94"
      },
      "source": [
        "#Create matrix with matrix obje\n",
        "mat_obj = np.mat([[1,2,3],[4,5,6],[7,8,9]])\n",
        "mat_obj"
      ],
      "execution_count": 5,
      "outputs": [
        {
          "output_type": "execute_result",
          "data": {
            "text/plain": [
              "matrix([[1, 2, 3],\n",
              "        [4, 5, 6],\n",
              "        [7, 8, 9]])"
            ]
          },
          "metadata": {
            "tags": []
          },
          "execution_count": 5
        }
      ]
    },
    {
      "cell_type": "markdown",
      "metadata": {
        "id": "V_KRDgZfJ4SN"
      },
      "source": [
        " **Create Sparse Matrix**\n",
        "Sparse matrix is a matrix which contains very few non-zero elements."
      ]
    },
    {
      "cell_type": "code",
      "metadata": {
        "id": "71-RZX2rJ0cx"
      },
      "source": [
        "#Load libary specific to create sparse matrix\n",
        "from scipy import sparse"
      ],
      "execution_count": 6,
      "outputs": []
    },
    {
      "cell_type": "code",
      "metadata": {
        "id": "b81VDHkVJ_cD"
      },
      "source": [
        "#create sparse matrix\n",
        "mat_sparse = np.array([[0,1,0,0,0],[1,0,0,1,0],[0,0,0,0,0],[0,0,3,0,5],[0,0,0,2,3]])\n",
        "mat_sparse\n",
        "sparse_all=sparse.csr_matrix(mat_sparse)"
      ],
      "execution_count": 7,
      "outputs": []
    },
    {
      "cell_type": "code",
      "metadata": {
        "colab": {
          "base_uri": "https://localhost:8080/"
        },
        "id": "4MpqcOP5KEZc",
        "outputId": "1b47e10c-8d06-4b61-d7a7-44e31add51fc"
      },
      "source": [
        "#show the allocation of the sparse matrix\n",
        "print(sparse_all)"
      ],
      "execution_count": 8,
      "outputs": [
        {
          "output_type": "stream",
          "text": [
            "  (0, 1)\t1\n",
            "  (1, 0)\t1\n",
            "  (1, 3)\t1\n",
            "  (3, 2)\t3\n",
            "  (3, 4)\t5\n",
            "  (4, 3)\t2\n",
            "  (4, 4)\t3\n"
          ],
          "name": "stdout"
        }
      ]
    },
    {
      "cell_type": "markdown",
      "metadata": {
        "id": "P7yO0coVKPl-"
      },
      "source": [
        "**Select element from an vector of matrix. (Slicing arrays)**"
      ]
    },
    {
      "cell_type": "code",
      "metadata": {
        "colab": {
          "base_uri": "https://localhost:8080/"
        },
        "id": "uH4eXhYWKKSG",
        "outputId": "a9018c2a-91e5-47f6-c2a1-0a00959a1a5c"
      },
      "source": [
        "#Create a vector and matrix for slicing\n",
        "vec_slicing = np.array([5,6,10,12,8,2])\n",
        "vec_slicing"
      ],
      "execution_count": 9,
      "outputs": [
        {
          "output_type": "execute_result",
          "data": {
            "text/plain": [
              "array([ 5,  6, 10, 12,  8,  2])"
            ]
          },
          "metadata": {
            "tags": []
          },
          "execution_count": 9
        }
      ]
    },
    {
      "cell_type": "code",
      "metadata": {
        "colab": {
          "base_uri": "https://localhost:8080/"
        },
        "id": "e-dfWF8_KWBP",
        "outputId": "f90b91db-70eb-406b-f7b0-ef9762d60371"
      },
      "source": [
        "mat_slicing = np.array([[5,9,6],[2,3,4],[8,2,1]])\n",
        "mat_slicing"
      ],
      "execution_count": 10,
      "outputs": [
        {
          "output_type": "execute_result",
          "data": {
            "text/plain": [
              "array([[5, 9, 6],\n",
              "       [2, 3, 4],\n",
              "       [8, 2, 1]])"
            ]
          },
          "metadata": {
            "tags": []
          },
          "execution_count": 10
        }
      ]
    },
    {
      "cell_type": "code",
      "metadata": {
        "colab": {
          "base_uri": "https://localhost:8080/"
        },
        "id": "p_KijblNKaE3",
        "outputId": "0ad8779c-536b-471e-f071-86fbaed9b1f2"
      },
      "source": [
        "#select 2nd element of the vector\n",
        "vec_slicing[3]"
      ],
      "execution_count": 11,
      "outputs": [
        {
          "output_type": "execute_result",
          "data": {
            "text/plain": [
              "12"
            ]
          },
          "metadata": {
            "tags": []
          },
          "execution_count": 11
        }
      ]
    },
    {
      "cell_type": "code",
      "metadata": {
        "colab": {
          "base_uri": "https://localhost:8080/"
        },
        "id": "ZVZW8QGWKe4g",
        "outputId": "608908c1-88d9-4f93-8b8b-bf367927f60c"
      },
      "source": [
        "#select the element of 2nd row and 1st column of the matrix\n",
        "mat_slicing[1,1]"
      ],
      "execution_count": 12,
      "outputs": [
        {
          "output_type": "execute_result",
          "data": {
            "text/plain": [
              "3"
            ]
          },
          "metadata": {
            "tags": []
          },
          "execution_count": 12
        }
      ]
    },
    {
      "cell_type": "code",
      "metadata": {
        "colab": {
          "base_uri": "https://localhost:8080/"
        },
        "id": "JlEj57_iKmTS",
        "outputId": "d8ecd60f-116b-411a-9e28-069b6802ef72"
      },
      "source": [
        "#Select all element from the vector\n",
        "vec_slicing[:]"
      ],
      "execution_count": 13,
      "outputs": [
        {
          "output_type": "execute_result",
          "data": {
            "text/plain": [
              "array([ 5,  6, 10, 12,  8,  2])"
            ]
          },
          "metadata": {
            "tags": []
          },
          "execution_count": 13
        }
      ]
    },
    {
      "cell_type": "code",
      "metadata": {
        "colab": {
          "base_uri": "https://localhost:8080/"
        },
        "id": "SqkfzZUoKsUb",
        "outputId": "5359e5e0-2d1e-4d3a-f18e-f0bfb64f1abc"
      },
      "source": [
        "#Select all the element after a certain element from a vector\n",
        "vec_slicing[3:]"
      ],
      "execution_count": 14,
      "outputs": [
        {
          "output_type": "execute_result",
          "data": {
            "text/plain": [
              "array([12,  8,  2])"
            ]
          },
          "metadata": {
            "tags": []
          },
          "execution_count": 14
        }
      ]
    },
    {
      "cell_type": "code",
      "metadata": {
        "colab": {
          "base_uri": "https://localhost:8080/"
        },
        "id": "WXGz-uETKzaP",
        "outputId": "c07d2b17-b1f9-4c56-c630-0e0c765c0921"
      },
      "source": [
        "#select the last element of the vector\n",
        "vec_slicing[-1]"
      ],
      "execution_count": 15,
      "outputs": [
        {
          "output_type": "execute_result",
          "data": {
            "text/plain": [
              "2"
            ]
          },
          "metadata": {
            "tags": []
          },
          "execution_count": 15
        }
      ]
    },
    {
      "cell_type": "code",
      "metadata": {
        "colab": {
          "base_uri": "https://localhost:8080/"
        },
        "id": "W7zFkRIGK4ky",
        "outputId": "8c9098e5-dd1e-49b3-92e8-ef12f01af385"
      },
      "source": [
        "#select first 2 rows with all columns\n",
        "mat_slicing[:2,:]"
      ],
      "execution_count": 16,
      "outputs": [
        {
          "output_type": "execute_result",
          "data": {
            "text/plain": [
              "array([[5, 9, 6],\n",
              "       [2, 3, 4]])"
            ]
          },
          "metadata": {
            "tags": []
          },
          "execution_count": 16
        }
      ]
    },
    {
      "cell_type": "code",
      "metadata": {
        "colab": {
          "base_uri": "https://localhost:8080/"
        },
        "id": "qy43JqCeK-HP",
        "outputId": "f2d840f7-3e2b-4b4e-afae-566490800a1d"
      },
      "source": [
        "#Select all rows and the third column\n",
        "mat_slicing[:,2:3]"
      ],
      "execution_count": 17,
      "outputs": [
        {
          "output_type": "execute_result",
          "data": {
            "text/plain": [
              "array([[6],\n",
              "       [4],\n",
              "       [1]])"
            ]
          },
          "metadata": {
            "tags": []
          },
          "execution_count": 17
        }
      ]
    },
    {
      "cell_type": "markdown",
      "metadata": {
        "id": "34vbSXUQLGq_"
      },
      "source": [
        "**Describing a matrix**"
      ]
    },
    {
      "cell_type": "code",
      "metadata": {
        "colab": {
          "base_uri": "https://localhost:8080/"
        },
        "id": "dYVE-lgPLCnr",
        "outputId": "df4aa149-175d-42bd-bea2-1fad4357ca54"
      },
      "source": [
        "#print the number of rows and columns of the matrix\n",
        "mat_slicing.shape"
      ],
      "execution_count": 18,
      "outputs": [
        {
          "output_type": "execute_result",
          "data": {
            "text/plain": [
              "(3, 3)"
            ]
          },
          "metadata": {
            "tags": []
          },
          "execution_count": 18
        }
      ]
    },
    {
      "cell_type": "code",
      "metadata": {
        "colab": {
          "base_uri": "https://localhost:8080/"
        },
        "id": "NP4UlJzNLNK4",
        "outputId": "7497d88c-55a0-4d9e-c844-e9ea14bbafe2"
      },
      "source": [
        "#print the number of elements of the matrix\n",
        "mat_slicing.size"
      ],
      "execution_count": 19,
      "outputs": [
        {
          "output_type": "execute_result",
          "data": {
            "text/plain": [
              "9"
            ]
          },
          "metadata": {
            "tags": []
          },
          "execution_count": 19
        }
      ]
    },
    {
      "cell_type": "code",
      "metadata": {
        "colab": {
          "base_uri": "https://localhost:8080/"
        },
        "id": "kARAbXQ4LR9-",
        "outputId": "b49b6400-aaf6-4189-9561-8ba7473bba76"
      },
      "source": [
        "#print the number of dimensions of the matrix\n",
        "mat_slicing.ndim"
      ],
      "execution_count": 20,
      "outputs": [
        {
          "output_type": "execute_result",
          "data": {
            "text/plain": [
              "2"
            ]
          },
          "metadata": {
            "tags": []
          },
          "execution_count": 20
        }
      ]
    },
    {
      "cell_type": "markdown",
      "metadata": {
        "id": "vmYi56pnLXo-"
      },
      "source": [
        "**Create a matrix and add 100 to every element of the matrix**\n",
        "\n",
        "\n",
        "1.   Using vectorize class\n",
        "2.   Using Broadcasting method\n"
      ]
    },
    {
      "cell_type": "code",
      "metadata": {
        "colab": {
          "base_uri": "https://localhost:8080/"
        },
        "id": "N_m0VRyLLayF",
        "outputId": "c1a1f9eb-cb55-4dfd-c869-7eb25f4e3544"
      },
      "source": [
        "#using vectorize class\n",
        "# Create function that adds 100 to something\n",
        "adding100 = lambda i: i + 100\n",
        "# Create vectorized function\n",
        "vectorized_adding100 = np.vectorize(adding100)\n",
        "# Apply function to all elements in matrix\n",
        "vectorized_adding100(mat_slicing)"
      ],
      "execution_count": 21,
      "outputs": [
        {
          "output_type": "execute_result",
          "data": {
            "text/plain": [
              "array([[105, 109, 106],\n",
              "       [102, 103, 104],\n",
              "       [108, 102, 101]])"
            ]
          },
          "metadata": {
            "tags": []
          },
          "execution_count": 21
        }
      ]
    },
    {
      "cell_type": "code",
      "metadata": {
        "colab": {
          "base_uri": "https://localhost:8080/"
        },
        "id": "X43NEldILeQS",
        "outputId": "9a9c44ef-9e3b-4708-e64c-4277145d794e"
      },
      "source": [
        "#using broadcasting\n",
        "#Adding Scalar and One-Dimensional Array\n",
        "a = np.array([2,4,3])\n",
        "print(a)\n",
        "b = 5\n",
        "print(b)\n",
        "c = a+b\n",
        "print(c)"
      ],
      "execution_count": 22,
      "outputs": [
        {
          "output_type": "stream",
          "text": [
            "[2 4 3]\n",
            "5\n",
            "[7 9 8]\n"
          ],
          "name": "stdout"
        }
      ]
    },
    {
      "cell_type": "code",
      "metadata": {
        "colab": {
          "base_uri": "https://localhost:8080/"
        },
        "id": "9tESi-bcLyMT",
        "outputId": "b04b6dee-1c7e-4203-e44d-f5099e3ed43a"
      },
      "source": [
        "#Adding Scalar and Two-Dimensional Array\n",
        "A = np.array([[1,7,1],[2,4,1]])\n",
        "print(A)\n",
        "B =2\n",
        "print(B)\n",
        "C = A+B\n",
        "print(C)"
      ],
      "execution_count": 23,
      "outputs": [
        {
          "output_type": "stream",
          "text": [
            "[[1 7 1]\n",
            " [2 4 1]]\n",
            "2\n",
            "[[3 9 3]\n",
            " [4 6 3]]\n"
          ],
          "name": "stdout"
        }
      ]
    },
    {
      "cell_type": "code",
      "metadata": {
        "colab": {
          "base_uri": "https://localhost:8080/"
        },
        "id": "nLgvx-PlL7am",
        "outputId": "ed75fcaf-b9c6-4aa4-ce06-47050febe345"
      },
      "source": [
        "#Adding One-Dimensional and Two-Dimensional Arrays\n",
        "A = np.array([[1,7,1],[2,4,1]])\n",
        "print(A)\n",
        "B =np.array([[2,3,1]])\n",
        "print(B)\n",
        "C = A+B\n",
        "print(C)"
      ],
      "execution_count": 24,
      "outputs": [
        {
          "output_type": "stream",
          "text": [
            "[[1 7 1]\n",
            " [2 4 1]]\n",
            "[[2 3 1]]\n",
            "[[ 3 10  2]\n",
            " [ 4  7  2]]\n"
          ],
          "name": "stdout"
        }
      ]
    },
    {
      "cell_type": "markdown",
      "metadata": {
        "id": "FGx-HAz9MMGJ"
      },
      "source": [
        "**Finding the minimum and maximum value from a matrix**"
      ]
    },
    {
      "cell_type": "code",
      "metadata": {
        "colab": {
          "base_uri": "https://localhost:8080/"
        },
        "id": "wDclqt1pMQuQ",
        "outputId": "86c37109-1036-4638-f893-e12309232620"
      },
      "source": [
        "print(mat_slicing)"
      ],
      "execution_count": 25,
      "outputs": [
        {
          "output_type": "stream",
          "text": [
            "[[5 9 6]\n",
            " [2 3 4]\n",
            " [8 2 1]]\n"
          ],
          "name": "stdout"
        }
      ]
    },
    {
      "cell_type": "code",
      "metadata": {
        "colab": {
          "base_uri": "https://localhost:8080/"
        },
        "id": "R5sUrnmBMWQZ",
        "outputId": "a4d57457-7514-4337-b5e4-094594c24a8f"
      },
      "source": [
        "#Find maximum element of a matrix\n",
        "np.max(mat_slicing)"
      ],
      "execution_count": 26,
      "outputs": [
        {
          "output_type": "execute_result",
          "data": {
            "text/plain": [
              "9"
            ]
          },
          "metadata": {
            "tags": []
          },
          "execution_count": 26
        }
      ]
    },
    {
      "cell_type": "code",
      "metadata": {
        "colab": {
          "base_uri": "https://localhost:8080/"
        },
        "id": "6u8nJs0mMZWm",
        "outputId": "6b0bb8ac-d53e-445c-c762-39e0c8a583be"
      },
      "source": [
        "#Find minimum element of a matrix\n",
        "np.min(mat_slicing)"
      ],
      "execution_count": 27,
      "outputs": [
        {
          "output_type": "execute_result",
          "data": {
            "text/plain": [
              "1"
            ]
          },
          "metadata": {
            "tags": []
          },
          "execution_count": 27
        }
      ]
    },
    {
      "cell_type": "code",
      "metadata": {
        "colab": {
          "base_uri": "https://localhost:8080/"
        },
        "id": "_-9Q7eonMdWa",
        "outputId": "0c4a8c77-d674-49a1-f989-443f7f8400c4"
      },
      "source": [
        "#Find the maximum and minimum element in each column of a matrix\n",
        "print(np.max(mat_slicing, axis=0))\n",
        "print(np.min(mat_slicing,axis=0))"
      ],
      "execution_count": 28,
      "outputs": [
        {
          "output_type": "stream",
          "text": [
            "[8 9 6]\n",
            "[2 2 1]\n"
          ],
          "name": "stdout"
        }
      ]
    },
    {
      "cell_type": "code",
      "metadata": {
        "colab": {
          "base_uri": "https://localhost:8080/"
        },
        "id": "DwCr__L6MhU9",
        "outputId": "2f1e19ed-a335-4dcd-d88a-517b205164e2"
      },
      "source": [
        "#Find the maximum and minimum element in each row of a matrix\n",
        "print(np.max(mat_slicing, axis=1))\n",
        "print(np.min(mat_slicing, axis =1))"
      ],
      "execution_count": 29,
      "outputs": [
        {
          "output_type": "stream",
          "text": [
            "[9 4 8]\n",
            "[5 2 1]\n"
          ],
          "name": "stdout"
        }
      ]
    },
    {
      "cell_type": "markdown",
      "metadata": {
        "id": "nzEHVgGAMnzF"
      },
      "source": [
        "**Calculating the Average, Variance, and Standard**\n",
        "**Deviation**"
      ]
    },
    {
      "cell_type": "code",
      "metadata": {
        "colab": {
          "base_uri": "https://localhost:8080/"
        },
        "id": "2A96xS9qMp7t",
        "outputId": "ba12a1de-1058-4939-ac17-d92d9f0b0183"
      },
      "source": [
        "#Find out mean from a matrix\n",
        "np.mean(mat_slicing)"
      ],
      "execution_count": 30,
      "outputs": [
        {
          "output_type": "execute_result",
          "data": {
            "text/plain": [
              "4.444444444444445"
            ]
          },
          "metadata": {
            "tags": []
          },
          "execution_count": 30
        }
      ]
    },
    {
      "cell_type": "code",
      "metadata": {
        "colab": {
          "base_uri": "https://localhost:8080/"
        },
        "id": "Jmq7OWPwMs3c",
        "outputId": "54dd2386-74a0-46f1-a88d-6b83fe1b416f"
      },
      "source": [
        "#Find the mean value of each column of a matrix\n",
        "np.mean(mat_slicing, axis=0)"
      ],
      "execution_count": 31,
      "outputs": [
        {
          "output_type": "execute_result",
          "data": {
            "text/plain": [
              "array([5.        , 4.66666667, 3.66666667])"
            ]
          },
          "metadata": {
            "tags": []
          },
          "execution_count": 31
        }
      ]
    },
    {
      "cell_type": "code",
      "metadata": {
        "colab": {
          "base_uri": "https://localhost:8080/"
        },
        "id": "lGfQ-O6cMwMi",
        "outputId": "2f739aa1-18ae-4d5e-8300-a68f55b8d54c"
      },
      "source": [
        "#Find out variance from a matrix\n",
        "np.var(mat_slicing)"
      ],
      "execution_count": 32,
      "outputs": [
        {
          "output_type": "execute_result",
          "data": {
            "text/plain": [
              "6.913580246913581"
            ]
          },
          "metadata": {
            "tags": []
          },
          "execution_count": 32
        }
      ]
    },
    {
      "cell_type": "code",
      "metadata": {
        "colab": {
          "base_uri": "https://localhost:8080/"
        },
        "id": "QzR1FND6Mz27",
        "outputId": "2d33e1cc-2c02-42bc-bff4-907c8b045701"
      },
      "source": [
        "#Find out Standard deviation from a matrix\n",
        "np.std(mat_slicing)"
      ],
      "execution_count": 33,
      "outputs": [
        {
          "output_type": "execute_result",
          "data": {
            "text/plain": [
              "2.629368792488718"
            ]
          },
          "metadata": {
            "tags": []
          },
          "execution_count": 33
        }
      ]
    }
  ]
}